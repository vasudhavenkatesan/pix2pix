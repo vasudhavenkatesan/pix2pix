{
  "nbformat": 4,
  "nbformat_minor": 0,
  "metadata": {
    "colab": {
      "provenance": [],
      "mount_file_id": "1EBojsav6Hi3EabW_vMGmfrgEQ583apcv",
      "authorship_tag": "ABX9TyNczo3qWdGZorQT3Rc7c/iT",
      "include_colab_link": true
    },
    "kernelspec": {
      "name": "python3",
      "display_name": "Python 3"
    },
    "language_info": {
      "name": "python"
    },
    "gpuClass": "standard"
  },
  "cells": [
    {
      "cell_type": "markdown",
      "metadata": {
        "id": "view-in-github",
        "colab_type": "text"
      },
      "source": [
        "<a href=\"https://colab.research.google.com/github/vasudhavenkatesan/pix2pix/blob/main/pix2pix.ipynb\" target=\"_parent\"><img src=\"https://colab.research.google.com/assets/colab-badge.svg\" alt=\"Open In Colab\"/></a>"
      ]
    },
    {
      "cell_type": "markdown",
      "source": [
        "## Importing necessary libraries"
      ],
      "metadata": {
        "id": "hbNJIN3pSIu5"
      }
    },
    {
      "cell_type": "code",
      "execution_count": 14,
      "metadata": {
        "id": "WAAyxkugSFKi"
      },
      "outputs": [],
      "source": [
        "import numpy as np\n",
        "import os\n",
        "import matplotlib.pyplot as plt\n",
        "from tqdm.auto import tqdm\n",
        "\n",
        "import torch\n",
        "import torch.nn as nn\n",
        "import torch.nn.functional as F\n",
        "import torch.optim as optim\n",
        "\n",
        "import torchvision\n",
        "from torchvision.utils import make_grid\n",
        "from torchvision import models, transforms\n",
        "from torch.utils.data import DataLoader, Dataset\n",
        "from PIL import Image\n",
        "from torchvision.transforms import InterpolationMode"
      ]
    },
    {
      "cell_type": "markdown",
      "source": [
        "# Loading data"
      ],
      "metadata": {
        "id": "DHxsur9S5FCN"
      }
    },
    {
      "cell_type": "code",
      "source": [
        "class MapDataset(Dataset):\n",
        "  def __init__(self, root_dir):\n",
        "    self.root_dir = root_dir\n",
        "    self.list_files = os.listdir(self.root_dir)\n",
        "    print(self.list_files)\n",
        "    self.data_transforms = transforms.Compose([transforms.Resize(size=(256,512), interpolation=InterpolationMode.NEAREST),\n",
        "                                      transforms.CenterCrop(size=(256,512)),\n",
        "                                      transforms.ToTensor(),\n",
        "                                      transforms.Normalize([0.5, 0.5, 0.5], [0.5, 0.5, 0.5])]) \n",
        "\n",
        "  def __len__(self):\n",
        "    return len(self.list_files)\n",
        "\n",
        "  def __getitem__(self, index):\n",
        "    img_file = self.list_files[index]\n",
        "    img_path = os.path.join(self.root_dir, img_file)\n",
        "    image = np.array(Image.open(img_path))\n",
        "    input_image = image[:, :600, :]\n",
        "    target_image = image[:, 600:, :]\n",
        "    input_image = self.data_transforms(input_image)\n",
        "    target_image = self.data_transforms(target_image)\n",
        "    return input_image, target_image\n",
        "    \n"
      ],
      "metadata": {
        "id": "bzoGLf9HWSU1"
      },
      "execution_count": 15,
      "outputs": []
    },
    {
      "cell_type": "code",
      "source": [
        "from __main__ import MapDataset\n",
        "data_dir = \"/content/drive/MyDrive/maps_dataset/maps/\"\n",
        "\n",
        "dataset_train = MapDataset(root_dir=os.path.join(data_dir, \"train\"))\n",
        "dataset_val = MapDataset(root_dir=os.path.join(data_dir, \"val\"))\n",
        "\n",
        "dataloader_train = DataLoader(dataset=dataset_train, batch_size=24, shuffle=True, num_workers=2)\n",
        "dataloader_val = DataLoader(dataset=dataset_val, batch_size=24, shuffle=True, num_workers=2)\n",
        "\n",
        "print(len(dataset_val))"
      ],
      "metadata": {
        "id": "fHKxg4_i7BrX"
      },
      "execution_count": null,
      "outputs": []
    }
  ]
}