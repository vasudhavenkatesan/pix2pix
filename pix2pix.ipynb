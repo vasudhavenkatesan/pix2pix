{
  "nbformat": 4,
  "nbformat_minor": 0,
  "metadata": {
    "colab": {
      "provenance": [],
      "mount_file_id": "1EBojsav6Hi3EabW_vMGmfrgEQ583apcv",
      "authorship_tag": "ABX9TyNczo3qWdGZorQT3Rc7c/iT",
      "include_colab_link": true
    },
    "kernelspec": {
      "name": "python3",
      "display_name": "Python 3"
    },
    "language_info": {
      "name": "python"
    },
    "gpuClass": "standard"
  },
  "cells": [
    {
      "cell_type": "markdown",
      "metadata": {
        "id": "view-in-github",
        "colab_type": "text"
      },
      "source": [
        "<a href=\"https://colab.research.google.com/github/vasudhavenkatesan/pix2pix/blob/main/pix2pix.ipynb\" target=\"_parent\"><img src=\"https://colab.research.google.com/assets/colab-badge.svg\" alt=\"Open In Colab\"/></a>"
      ]
    },
    {
      "cell_type": "markdown",
      "source": [
        "## Importing necessary libraries"
      ],
      "metadata": {
        "id": "hbNJIN3pSIu5"
      }
    },
    {
      "cell_type": "code",
      "execution_count": 14,
      "metadata": {
        "id": "WAAyxkugSFKi"
      },
      "outputs": [],
      "source": [
        "import numpy as np\n",
        "import os\n",
        "import matplotlib.pyplot as plt\n",
        "from tqdm.auto import tqdm\n",
        "\n",
        "import torch\n",
        "import torch.nn as nn\n",
        "import torch.nn.functional as F\n",
        "import torch.optim as optim\n",
        "\n",
        "import torchvision\n",
        "from torchvision.utils import make_grid\n",
        "from torchvision import models, transforms\n",
        "from torch.utils.data import DataLoader, Dataset\n",
        "from PIL import Image\n",
        "from torchvision.transforms import InterpolationMode"
      ]
    },
    {
      "cell_type": "markdown",
      "source": [
        "# Loading data"
      ],
      "metadata": {
        "id": "DHxsur9S5FCN"
      }
    },
    {
      "cell_type": "code",
      "source": [
        "class MapDataset(Dataset):\n",
        "  def __init__(self, root_dir):\n",
        "    self.root_dir = root_dir\n",
        "    self.list_files = os.listdir(self.root_dir)\n",
        "    print(self.list_files)\n",
        "    self.data_transforms = transforms.Compose([transforms.Resize(size=(256,512), interpolation=InterpolationMode.NEAREST),\n",
        "                                      transforms.CenterCrop(size=(256,512)),\n",
        "                                      transforms.ToTensor(),\n",
        "                                      transforms.Normalize([0.5, 0.5, 0.5], [0.5, 0.5, 0.5])]) \n",
        "\n",
        "  def __len__(self):\n",
        "    return len(self.list_files)\n",
        "\n",
        "  def __getitem__(self, index):\n",
        "    img_file = self.list_files[index]\n",
        "    img_path = os.path.join(self.root_dir, img_file)\n",
        "    image = np.array(Image.open(img_path))\n",
        "    input_image = image[:, :600, :]\n",
        "    target_image = image[:, 600:, :]\n",
        "    input_image = self.data_transforms(input_image)\n",
        "    target_image = self.data_transforms(target_image)\n",
        "    return input_image, target_image\n",
        "    \n"
      ],
      "metadata": {
        "id": "bzoGLf9HWSU1"
      },
      "execution_count": 15,
      "outputs": []
    },
    {
      "cell_type": "code",
      "source": [
        "from __main__ import MapDataset\n",
        "data_dir = \"/content/drive/MyDrive/maps_dataset/maps/\"\n",
        "\n",
        "dataset_train = MapDataset(root_dir=os.path.join(data_dir, \"train\"))\n",
        "dataset_val = MapDataset(root_dir=os.path.join(data_dir, \"val\"))\n",
        "\n",
        "dataloader_train = DataLoader(dataset=dataset_train, batch_size=24, shuffle=True, num_workers=2)\n",
        "dataloader_val = DataLoader(dataset=dataset_val, batch_size=24, shuffle=True, num_workers=2)\n",
        "\n",
        "print(len(dataset_val))"
      ],
      "metadata": {
        "colab": {
          "base_uri": "https://localhost:8080/"
        },
        "id": "fHKxg4_i7BrX",
        "outputId": "fd6ee7b6-5f32-45a0-f920-ea08e04db1c9"
      },
      "execution_count": 20,
      "outputs": [
        {
          "output_type": "stream",
          "name": "stdout",
          "text": [
            "['1009.jpg', '1003.jpg', '1007.jpg', '1002.jpg', '1008.jpg', '1005.jpg', '1006.jpg', '1004.jpg', '1001.jpg', '1000.jpg', '100.jpg', '1.jpg', '10.jpg', '1055.jpg', '1057.jpg', '1058.jpg', '1056.jpg', '1054.jpg', '105.jpg', '1051.jpg', '1052.jpg', '1046.jpg', '1050.jpg', '1049.jpg', '1048.jpg', '1047.jpg', '1053.jpg', '1045.jpg', '1043.jpg', '104.jpg', '1037.jpg', '1042.jpg', '1040.jpg', '1044.jpg', '1038.jpg', '1041.jpg', '1039.jpg', '1036.jpg', '1029.jpg', '1034.jpg', '1030.jpg', '1031.jpg', '1032.jpg', '103.jpg', '1035.jpg', '1028.jpg', '1033.jpg', '1027.jpg', '1021.jpg', '1020.jpg', '1019.jpg', '1024.jpg', '1022.jpg', '1026.jpg', '102.jpg', '1025.jpg', '1023.jpg', '1018.jpg', '101.jpg', '1016.jpg', '1010.jpg', '1017.jpg', '1015.jpg', '1014.jpg', '1013.jpg', '1011.jpg', '1012.jpg', '112.jpg', '1088.jpg', '1085.jpg', '109.jpg', '1086.jpg', '1089.jpg', '1082.jpg', '1095.jpg', '1092.jpg', '1094.jpg', '110.jpg', '1093.jpg', '111.jpg', '1096.jpg', '11.jpg', '1091.jpg', '1090.jpg', '1084.jpg', '1083.jpg', '1087.jpg', '1081.jpg', '1076.jpg', '1078.jpg', '108.jpg', '1079.jpg', '1075.jpg', '1080.jpg', '1077.jpg', '1074.jpg', '1073.jpg', '1072.jpg', '1070.jpg', '1071.jpg', '1065.jpg', '1069.jpg', '1066.jpg', '1064.jpg', '107.jpg', '1068.jpg', '1067.jpg', '1060.jpg', '106.jpg', '1059.jpg', '1062.jpg', '1063.jpg', '1061.jpg', '130.jpg', '124.jpg', '128.jpg', '127.jpg', '129.jpg', '122.jpg', '13.jpg', '125.jpg', '126.jpg', '123.jpg', '121.jpg', '118.jpg', '117.jpg', '120.jpg', '119.jpg', '115.jpg', '12.jpg', '116.jpg', '113.jpg', '114.jpg', '158.jpg', '153.jpg', '155.jpg', '157.jpg', '156.jpg', '152.jpg', '151.jpg', '15.jpg', '154.jpg', '150.jpg', '149.jpg', '145.jpg', '146.jpg', '143.jpg', '147.jpg', '144.jpg', '148.jpg', '142.jpg', '141.jpg', '140.jpg', '139.jpg', '131.jpg', '136.jpg', '135.jpg', '132.jpg', '133.jpg', '14.jpg', '134.jpg', '138.jpg', '137.jpg', '159.jpg', '166.jpg', '16.jpg', '165.jpg', '160.jpg', '164.jpg', '161.jpg', '162.jpg', '163.jpg', '167.jpg', '176.jpg', '177.jpg', '161 (1).jpg', '16 (1).jpg', '160 (1).jpg', '158 (1).jpg', '159 (1).jpg', '162 (1).jpg', '163 (1).jpg', '164 (1).jpg', '165 (1).jpg', '166 (1).jpg', '170.jpg', '173.jpg', '169.jpg', '17.jpg', '175.jpg', '171.jpg', '174.jpg', '172.jpg', '168.jpg', '19.jpg', '187.jpg', '190.jpg', '189.jpg', '191.jpg', '188.jpg', '186.jpg', '185.jpg', '192.jpg', '193.jpg', '178.jpg', '179.jpg', '18.jpg', '183.jpg', '180.jpg', '184.jpg', '181.jpg', '182.jpg', '230.jpg', '226.jpg', '222.jpg', '225.jpg', '224.jpg', '223.jpg', '227.jpg', '228.jpg', '221.jpg', '229.jpg', '220.jpg', '216.jpg', '217.jpg', '22.jpg', '214.jpg', '218.jpg', '219.jpg', '215.jpg', '213.jpg', '212.jpg', '211.jpg', '21.jpg', '204.jpg', '203.jpg', '210.jpg', '209.jpg', '208.jpg', '206.jpg', '205.jpg', '207.jpg', '202.jpg', '201.jpg', '196.jpg', '199.jpg', '195.jpg', '20.jpg', '200.jpg', '198.jpg', '2.jpg', '197.jpg', '194.jpg', '183 (1).jpg', '181 (1).jpg', '179 (1).jpg', '178 (1).jpg', '176 (1).jpg', '18 (1).jpg', '180 (1).jpg', '177 (1).jpg', '182 (1).jpg', '184 (1).jpg', '284.jpg', '283.jpg', '282.jpg', '280.jpg', '281.jpg', '279.jpg', '278.jpg', '28.jpg', '276.jpg', '277.jpg', '275.jpg', '267.jpg', '273.jpg', '268.jpg', '27.jpg', '274.jpg', '270.jpg', '272.jpg', '271.jpg', '269.jpg', '266.jpg', '263.jpg', '262.jpg', '264.jpg', '265.jpg', '260.jpg', '261.jpg', '258.jpg', '26.jpg', '259.jpg', '257.jpg', '254.jpg', '255.jpg', '256.jpg', '252.jpg', '253.jpg', '25.jpg', '249.jpg', '250.jpg', '251.jpg', '248.jpg', '246.jpg', '243.jpg', '244.jpg', '247.jpg', '242.jpg', '245.jpg', '240.jpg', '241.jpg', '24.jpg', '239.jpg', '233.jpg', '237.jpg', '231.jpg', '235.jpg', '234.jpg', '232.jpg', '236.jpg', '238.jpg', '23.jpg', '335.jpg', '337.jpg', '333.jpg', '332.jpg', '336.jpg', '334.jpg', '331.jpg', '330.jpg', '33.jpg', '329.jpg', '322.jpg', '325.jpg', '327.jpg', '320.jpg', '328.jpg', '321.jpg', '323.jpg', '326.jpg', '324.jpg', '312.jpg', '317.jpg', '318.jpg', '316.jpg', '319.jpg', '313.jpg', '311.jpg', '32.jpg', '315.jpg', '314.jpg', '310.jpg', '306.jpg', '302.jpg', '304.jpg', '305.jpg', '307.jpg', '309.jpg', '31.jpg', '308.jpg', '303.jpg', '301.jpg', '298.jpg', '30.jpg', '300.jpg', '295.jpg', '296.jpg', '297.jpg', '3.jpg', '294.jpg', '299.jpg', '293.jpg', '291.jpg', '289.jpg', '292.jpg', '290.jpg', '29.jpg', '288.jpg', '286.jpg', '287.jpg', '285.jpg', '387.jpg', '391.jpg', '39.jpg', '389.jpg', '388.jpg', '386.jpg', '390.jpg', '384.jpg', '385.jpg', '383.jpg', '379.jpg', '382.jpg', '376.jpg', '377.jpg', '375.jpg', '38.jpg', '380.jpg', '381.jpg', '378.jpg', '374.jpg', '366.jpg', '371.jpg', '369.jpg', '368.jpg', '37.jpg', '367.jpg', '373.jpg', '370.jpg', '372.jpg', '365.jpg', '361.jpg', '358.jpg', '362.jpg', '359.jpg', '357.jpg', '363.jpg', '36.jpg', '344.jpg', '340.jpg', '339.jpg', '342.jpg', '341.jpg', '346.jpg', '360.jpg', '364.jpg', '356.jpg', '354.jpg', '35.jpg', '351.jpg', '350.jpg', '355.jpg', '353.jpg', '352.jpg', '349.jpg', '348.jpg', '347.jpg', '345.jpg', '34.jpg', '343.jpg', '338.jpg']\n",
            "['1015.jpg', '1016.jpg', '1013.jpg', '1008.jpg', '1014.jpg', '1011.jpg', '1012.jpg', '1009.jpg', '101.jpg', '1010.jpg', '1007.jpg', '1005.jpg', '1006.jpg', '10.jpg', '1001.jpg', '1002.jpg', '1004.jpg', '1000.jpg', '1003.jpg', '100.jpg', '1.jpg', '1061.jpg', '1060.jpg', '1056.jpg', '1057.jpg', '1055.jpg', '106.jpg', '1053.jpg', '1054.jpg', '1059.jpg', '1058.jpg', '1052.jpg', '105.jpg', '1048.jpg', '1051.jpg', '1050.jpg', '1049.jpg', '1046.jpg', '1044.jpg', '1045.jpg', '1047.jpg', '1043.jpg', '1039.jpg', '1036.jpg', '1037.jpg', '1035.jpg', '1041.jpg', '104.jpg', '1038.jpg', '1040.jpg', '1042.jpg', '1034.jpg', '1030.jpg', '1033.jpg', '1032.jpg', '1031.jpg', '103.jpg', '1026.jpg', '1029.jpg', '1028.jpg', '1027.jpg', '1025.jpg', '1023.jpg', '1021.jpg', '1022.jpg', '1024.jpg', '102.jpg', '1019.jpg', '1017.jpg', '1020.jpg', '1018.jpg', '124.jpg', '125.jpg', '122.jpg', '120.jpg', '119.jpg', '123.jpg', '121.jpg', '12.jpg', '126.jpg', '118.jpg', '112.jpg', '111.jpg', '110.jpg', '116.jpg', '115.jpg', '11.jpg', '113.jpg', '117.jpg', '114.jpg', '1098.jpg', '1096.jpg', '1095.jpg', '1094.jpg', '1097.jpg', '1090.jpg', '1093.jpg', '109.jpg', '1091.jpg', '1092.jpg', '1089.jpg', '1088.jpg', '1087.jpg', '1086.jpg', '1084.jpg', '1082.jpg', '1081.jpg', '1080.jpg', '1083.jpg', '1085.jpg', '108.jpg', '1079.jpg', '1078.jpg', '1075.jpg', '1071.jpg', '1077.jpg', '1073.jpg', '1072.jpg', '1076.jpg', '1074.jpg', '1070.jpg', '107.jpg', '1069.jpg', '1068.jpg', '1067.jpg', '1064.jpg', '1063.jpg', '1066.jpg', '1062.jpg', '1065.jpg', '172.jpg', '17.jpg', '167.jpg', '170.jpg', '171.jpg', '165.jpg', '166.jpg', '168.jpg', '169.jpg', '164.jpg', '163.jpg', '160.jpg', '16.jpg', '162.jpg', '161.jpg', '158.jpg', '155.jpg', '159.jpg', '156.jpg', '157.jpg', '154.jpg', '153.jpg', '152.jpg', '149.jpg', '146.jpg', '148.jpg', '147.jpg', '151.jpg', '150.jpg', '15.jpg', '145.jpg', '142.jpg', '144.jpg', '143.jpg', '139.jpg', '140.jpg', '141.jpg', '137.jpg', '138.jpg', '14.jpg', '135.jpg', '132.jpg', '134.jpg', '133.jpg', '136.jpg', '131.jpg', '130.jpg', '13.jpg', '128.jpg', '129.jpg', '127.jpg', '206.jpg', '202.jpg', '205.jpg', '201.jpg', '200.jpg', '204.jpg', '208.jpg', '207.jpg', '203.jpg', '20.jpg', '2.jpg', '197.jpg', '196.jpg', '199.jpg', '195.jpg', '198.jpg', '194.jpg', '193.jpg', '192.jpg', '191.jpg', '190.jpg', '186.jpg', '185.jpg', '19.jpg', '187.jpg', '189.jpg', '188.jpg', '184.jpg', '183.jpg', '182.jpg', '181.jpg', '180.jpg', '175.jpg', '18.jpg', '176.jpg', '179.jpg', '177.jpg', '178.jpg', '174.jpg', '173.jpg', '254.jpg', '26.jpg', '259.jpg', '256.jpg', '257.jpg', '258.jpg', '255.jpg', '253.jpg', '238.jpg', '241.jpg', '24.jpg', '239.jpg', '236.jpg', '242.jpg', '243.jpg', '237.jpg', '240.jpg', '252.jpg', '251.jpg', '25.jpg', '247.jpg', '250.jpg', '249.jpg', '245.jpg', '246.jpg', '248.jpg', '244.jpg', '235.jpg', '229.jpg', '231.jpg', '234.jpg', '230.jpg', '232.jpg', '233.jpg', '23.jpg', '228.jpg', '227.jpg', '224.jpg', '225.jpg', '226.jpg', '218.jpg', '221.jpg', '222.jpg', '223.jpg', '22.jpg', '220.jpg', '219.jpg', '217.jpg', '213.jpg', '215.jpg', '216.jpg', '214.jpg', '211.jpg', '209.jpg', '210.jpg', '21.jpg', '212.jpg', '280.jpg', '28.jpg', '279.jpg', '278.jpg', '274.jpg', '272.jpg', '276.jpg', '273.jpg', '277.jpg', '275.jpg', '271.jpg', '27.jpg', '270.jpg', '264.jpg', '266.jpg', '269.jpg', '263.jpg', '268.jpg', '267.jpg', '265.jpg', '262.jpg', '260.jpg', '261.jpg', '33.jpg', '332.jpg', '331.jpg', '330.jpg', '334.jpg', '333.jpg', '329.jpg', '328.jpg', '327.jpg', '326.jpg', '325.jpg', '320.jpg', '32.jpg', '323.jpg', '324.jpg', '322.jpg', '321.jpg', '319.jpg', '318.jpg', '317.jpg', '316.jpg', '30.jpg', '302.jpg', '306.jpg', '300.jpg', '3.jpg', '301.jpg', '305.jpg', '304.jpg', '303.jpg', '310.jpg', '312.jpg', '311.jpg', '314.jpg', '315.jpg', '309.jpg', '31.jpg', '313.jpg', '308.jpg', '307.jpg', '299.jpg', '291.jpg', '295.jpg', '293.jpg', '290.jpg', '298.jpg', '296.jpg', '294.jpg', '292.jpg', '297.jpg', '283.jpg', '285.jpg', '281.jpg', '289.jpg', '286.jpg', '287.jpg', '284.jpg', '29.jpg', '288.jpg', '282.jpg', '361.jpg', '354.jpg', '36.jpg', '357.jpg', '353.jpg', '358.jpg', '356.jpg', '355.jpg', '360.jpg', '359.jpg', '352.jpg', '349.jpg', '348.jpg', '35.jpg', '350.jpg', '347.jpg', '351.jpg', '345.jpg', '346.jpg', '344.jpg', '343.jpg', '34.jpg', '337.jpg', '338.jpg', '341.jpg', '340.jpg', '336.jpg', '342.jpg', '339.jpg', '335.jpg', '389.jpg', '388.jpg', '386.jpg', '387.jpg', '381.jpg', '384.jpg', '380.jpg', '382.jpg', '383.jpg', '385.jpg', '38.jpg', '373.jpg', '379.jpg', '371.jpg', '378.jpg', '372.jpg', '374.jpg', '375.jpg', '377.jpg', '376.jpg', '370.jpg', '363.jpg', '364.jpg', '37.jpg', '365.jpg', '362.jpg', '369.jpg', '366.jpg', '367.jpg', '368.jpg', '438.jpg', '439.jpg', '440.jpg', '44.jpg', '441.jpg', '437.jpg', '436.jpg', '434.jpg', '435.jpg', '433.jpg', '429.jpg', '427.jpg', '426.jpg', '43.jpg', '431.jpg', '432.jpg', '428.jpg', '430.jpg', '425.jpg', '424.jpg', '423.jpg', '419.jpg', '420.jpg', '418.jpg', '422.jpg', '417.jpg', '42.jpg', '421.jpg', '416.jpg', '415.jpg', '410.jpg', '414.jpg', '412.jpg', '413.jpg', '411.jpg', '409.jpg', '41.jpg', '408.jpg', '407.jpg', '406.jpg', '405.jpg', '403.jpg', '404.jpg', '4.jpg', '401.jpg', '399.jpg', '400.jpg', '402.jpg', '40.jpg', '398.jpg', '397.jpg', '394.jpg', '393.jpg', '395.jpg', '392.jpg', '391.jpg', '396.jpg', '390.jpg', '39.jpg', '491.jpg', '495.jpg', '490.jpg', '493.jpg', '494.jpg', '492.jpg', '496.jpg', '49.jpg', '489.jpg', '488.jpg', '484.jpg', '483.jpg', '482.jpg', '487.jpg', '485.jpg', '481.jpg', '486.jpg', '480.jpg', '48.jpg', '479.jpg', '476.jpg', '472.jpg', '478.jpg', '475.jpg', '470.jpg', '471.jpg', '474.jpg', '473.jpg', '477.jpg', '47.jpg', '469.jpg', '465.jpg', '463.jpg', '461.jpg', '468.jpg', '466.jpg', '464.jpg', '467.jpg', '462.jpg', '460.jpg', '451.jpg', '459.jpg', '456.jpg', '453.jpg', '454.jpg', '46.jpg', '455.jpg', '458.jpg', '457.jpg', '452.jpg', '445.jpg', '45.jpg', '448.jpg', '447.jpg', '446.jpg', '444.jpg', '450.jpg', '449.jpg', '443.jpg', '442.jpg', '515.jpg', '52.jpg', '519.jpg', '517.jpg', '518.jpg', '516.jpg', '514.jpg', '509.jpg', '508.jpg', '513.jpg', '51.jpg', '507.jpg', '511.jpg', '510.jpg', '506.jpg', '512.jpg', '505.jpg', '499.jpg', '501.jpg', '500.jpg', '504.jpg', '5.jpg', '503.jpg', '498.jpg', '50.jpg', '502.jpg', '497.jpg', '564.jpg', '563.jpg', '560.jpg', '566.jpg', '568.jpg', '565.jpg', '561.jpg', '562.jpg', '567.jpg', '569.jpg', '56.jpg', '555.jpg', '556.jpg', '551.jpg', '557.jpg', '553.jpg', '554.jpg', '552.jpg', '559.jpg', '558.jpg', '550.jpg', '544.jpg', '548.jpg', '549.jpg', '546.jpg', '547.jpg', '545.jpg', '55.jpg', '542.jpg', '543.jpg', '541.jpg', '533.jpg', '538.jpg', '536.jpg', '535.jpg', '534.jpg', '54.jpg', '539.jpg', '540.jpg', '537.jpg', '53.jpg', '525.jpg', '528.jpg', '524.jpg', '526.jpg', '527.jpg', '529.jpg', '530.jpg', '532.jpg', '531.jpg', '523.jpg', '520.jpg', '522.jpg', '521.jpg', '617.jpg', '621.jpg', '620.jpg', '618.jpg', '62.jpg', '616.jpg', '614.jpg', '619.jpg', '615.jpg', '613.jpg', '612.jpg', '609.jpg', '611.jpg', '606.jpg', '610.jpg', '608.jpg', '607.jpg', '605.jpg', '61.jpg', '604.jpg', '603.jpg', '600.jpg', '60.jpg', '601.jpg', '597.jpg', '602.jpg', '598.jpg', '6.jpg', '599.jpg', '596.jpg', '591.jpg', '590.jpg', '59.jpg', '595.jpg', '594.jpg', '593.jpg', '588.jpg', '592.jpg', '589.jpg', '587.jpg', '580.jpg', '585.jpg', '58.jpg', '586.jpg', '581.jpg', '583.jpg', '582.jpg', '584.jpg', '579.jpg', '578.jpg', '57.jpg', '576.jpg', '571.jpg', '570.jpg', '573.jpg', '577.jpg', '572.jpg', '575.jpg', '574.jpg', '646.jpg', '647.jpg', '644.jpg', '643.jpg', '642.jpg', '645.jpg', '641.jpg', '640.jpg', '637.jpg', '633.jpg', '635.jpg', '632.jpg', '639.jpg', '634.jpg', '636.jpg', '638.jpg', '64.jpg', '631.jpg', '630.jpg', '628.jpg', '626.jpg', '627.jpg', '624.jpg', '63.jpg', '623.jpg', '625.jpg', '629.jpg', '622.jpg', '690.jpg', '692.jpg', '695.jpg', '69.jpg', '694.jpg', '691.jpg', '689.jpg', '693.jpg', '687.jpg', '688.jpg', '686.jpg', '682.jpg', '68.jpg', '685.jpg', '684.jpg', '679.jpg', '678.jpg', '683.jpg', '680.jpg', '681.jpg', '677.jpg', '671.jpg', '670.jpg', '675.jpg', '67.jpg', '669.jpg', '673.jpg', '676.jpg', '674.jpg', '672.jpg', '668.jpg', '662.jpg', '66.jpg', '661.jpg', '666.jpg', '667.jpg', '664.jpg', '660.jpg', '665.jpg', '663.jpg', '659.jpg', '658.jpg', '655.jpg', '651.jpg', '652.jpg', '657.jpg', '653.jpg', '650.jpg', '654.jpg', '656.jpg', '65.jpg', '648.jpg', '649.jpg', '749.jpg', '742.jpg', '741.jpg', '740.jpg', '744.jpg', '743.jpg', '745.jpg', '748.jpg', '747.jpg', '746.jpg', '738.jpg', '736.jpg', '732.jpg', '739.jpg', '737.jpg', '735.jpg', '74.jpg', '733.jpg', '734.jpg', '731.jpg', '730.jpg', '724.jpg', '723.jpg', '729.jpg', '721.jpg', '73.jpg', '726.jpg', '725.jpg', '727.jpg', '728.jpg', '722.jpg', '715.jpg', '72.jpg', '716.jpg', '714.jpg', '720.jpg', '717.jpg', '719.jpg', '718.jpg', '713.jpg', '712.jpg', '709.jpg', '706.jpg', '704.jpg', '710.jpg', '711.jpg', '707.jpg', '71.jpg', '705.jpg', '708.jpg', '703.jpg', '698.jpg', '7.jpg', '696.jpg', '702.jpg', '701.jpg', '699.jpg', '70.jpg', '697.jpg', '700.jpg', '802.jpg', '797.jpg', '799.jpg', '798.jpg', '80.jpg', '795.jpg', '796.jpg', '801.jpg', '8.jpg', '800.jpg', '794.jpg', '787.jpg', '790.jpg', '793.jpg', '792.jpg', '791.jpg', '788.jpg', '789.jpg', '786.jpg', '79.jpg', '785.jpg', '780.jpg', '78.jpg', '781.jpg', '778.jpg', '783.jpg', '779.jpg', '782.jpg', '784.jpg', '777.jpg', '771.jpg', '774.jpg', '775.jpg', '77.jpg', '769.jpg', '772.jpg', '776.jpg', '770.jpg', '773.jpg', '768.jpg', '767.jpg', '766.jpg', '761.jpg', '762.jpg', '764.jpg', '759.jpg', '763.jpg', '760.jpg', '765.jpg', '758.jpg', '76.jpg', '756.jpg', '753.jpg', '754.jpg', '751.jpg', '752.jpg', '75.jpg', '750.jpg', '755.jpg', '757.jpg', '852.jpg', '856.jpg', '849.jpg', '851.jpg', '853.jpg', '854.jpg', '855.jpg', '850.jpg', '85.jpg', '848.jpg', '843.jpg', '846.jpg', '845.jpg', '847.jpg', '842.jpg', '841.jpg', '840.jpg', '844.jpg', '84.jpg', '839.jpg', '834.jpg', '836.jpg', '833.jpg', '838.jpg', '831.jpg', '832.jpg', '837.jpg', '835.jpg', '830.jpg', '83.jpg', '822.jpg', '823.jpg', '825.jpg', '829.jpg', '828.jpg', '826.jpg', '824.jpg', '827.jpg', '821.jpg', '820.jpg', '818.jpg', '815.jpg', '817.jpg', '82.jpg', '813.jpg', '816.jpg', '814.jpg', '819.jpg', '812.jpg', '811.jpg', '808.jpg', '807.jpg', '810.jpg', '806.jpg', '81.jpg', '805.jpg', '809.jpg', '804.jpg', '803.jpg', '906.jpg', '91.jpg', '908.jpg', '907.jpg', '909.jpg', '905.jpg', '904.jpg', '903.jpg', '902.jpg', '901.jpg', '898.jpg', '894.jpg', '897.jpg', '899.jpg', '900.jpg', '895.jpg', '9.jpg', '896.jpg', '90.jpg', '893.jpg', '892.jpg', '885.jpg', '886.jpg', '89.jpg', '890.jpg', '889.jpg', '887.jpg', '891.jpg', '888.jpg', '884.jpg', '878.jpg', '879.jpg', '880.jpg', '88.jpg', '881.jpg', '883.jpg', '877.jpg', '882.jpg', '876.jpg', '875.jpg', '873.jpg', '872.jpg', '868.jpg', '870.jpg', '869.jpg', '874.jpg', '871.jpg', '87.jpg', '867.jpg', '866.jpg', '865.jpg', '86.jpg', '858.jpg', '859.jpg', '861.jpg', '862.jpg', '860.jpg', '863.jpg', '864.jpg', '857.jpg', '96.jpg', '961.jpg', '962.jpg', '958.jpg', '963.jpg', '959.jpg', '960.jpg', '964.jpg', '957.jpg', '956.jpg', '955.jpg', '95.jpg', '954.jpg', '951.jpg', '953.jpg', '952.jpg', '949.jpg', '948.jpg', '950.jpg', '947.jpg', '945.jpg', '940.jpg', '944.jpg', '943.jpg', '941.jpg', '942.jpg', '939.jpg', '946.jpg', '94.jpg', '938.jpg', '930.jpg', '931.jpg', '932.jpg', '937.jpg', '936.jpg', '935.jpg', '934.jpg', '933.jpg', '93.jpg', '929.jpg', '928.jpg', '920.jpg', '922.jpg', '923.jpg', '925.jpg', '924.jpg', '927.jpg', '926.jpg', '921.jpg', '92.jpg', '916.jpg', '919.jpg', '911.jpg', '914.jpg', '918.jpg', '912.jpg', '917.jpg', '913.jpg', '915.jpg', '910.jpg', '996.jpg', '995.jpg', '998.jpg', '993.jpg', '994.jpg', '997.jpg', '999.jpg', '992.jpg', '99.jpg', '991.jpg', '990.jpg', '984.jpg', '986.jpg', '987.jpg', '989.jpg', '985.jpg', '988.jpg', '983.jpg', '978.jpg', '980.jpg', '982.jpg', '98.jpg', '979.jpg', '981.jpg', '977.jpg', '975.jpg', '976.jpg', '974.jpg', '966.jpg', '967.jpg', '972.jpg', '971.jpg', '968.jpg', '970.jpg', '969.jpg', '973.jpg', '97.jpg', '965.jpg']\n",
            "1098\n"
          ]
        }
      ]
    }
  ]
}