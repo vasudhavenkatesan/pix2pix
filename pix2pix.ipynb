{
  "nbformat": 4,
  "nbformat_minor": 0,
  "metadata": {
    "colab": {
      "provenance": [],
      "mount_file_id": "1EBojsav6Hi3EabW_vMGmfrgEQ583apcv",
      "authorship_tag": "ABX9TyPLrQTTVJ9bXUDs0mtb+uxF",
      "include_colab_link": true
    },
    "kernelspec": {
      "name": "python3",
      "display_name": "Python 3"
    },
    "language_info": {
      "name": "python"
    },
    "gpuClass": "standard"
  },
  "cells": [
    {
      "cell_type": "markdown",
      "metadata": {
        "id": "view-in-github",
        "colab_type": "text"
      },
      "source": [
        "<a href=\"https://colab.research.google.com/github/vasudhavenkatesan/pix2pix/blob/main/pix2pix.ipynb\" target=\"_parent\"><img src=\"https://colab.research.google.com/assets/colab-badge.svg\" alt=\"Open In Colab\"/></a>"
      ]
    },
    {
      "cell_type": "code",
      "source": [
        "!pip install ipdb"
      ],
      "metadata": {
        "id": "Vi-qwTcbXViu"
      },
      "execution_count": null,
      "outputs": []
    },
    {
      "cell_type": "markdown",
      "source": [
        "## Importing necessary libraries"
      ],
      "metadata": {
        "id": "hbNJIN3pSIu5"
      }
    },
    {
      "cell_type": "code",
      "execution_count": 14,
      "metadata": {
        "id": "WAAyxkugSFKi"
      },
      "outputs": [],
      "source": [
        "import numpy as np\n",
        "import os\n",
        "import matplotlib.pyplot as plt\n",
        "from tqdm.auto import tqdm\n",
        "\n",
        "import torch\n",
        "import torch.nn as nn\n",
        "import torch.nn.functional as F\n",
        "import torch.optim as optim\n",
        "\n",
        "import torchvision\n",
        "from torchvision.utils import make_grid\n",
        "from torchvision import models, transforms\n",
        "from torch.utils.data import DataLoader, Dataset\n",
        "from PIL import Image\n",
        "from torchvision.transforms import InterpolationMode"
      ]
    },
    {
      "cell_type": "markdown",
      "source": [
        "# Loading data"
      ],
      "metadata": {
        "id": "DHxsur9S5FCN"
      }
    },
    {
      "cell_type": "code",
      "source": [
        "class MapDataset(Dataset):\n",
        "  def __init__(self, root_dir):\n",
        "    self.root_dir = root_dir\n",
        "    self.list_files = os.listdir(self.root_dir)\n",
        "    print(self.list_files)\n",
        "    self.data_transforms = transforms.Compose([transforms.Resize(size=(256,512), interpolation=InterpolationMode.NEAREST),\n",
        "                                      transforms.CenterCrop(size=(256,512)),\n",
        "                                      transforms.ToTensor(),\n",
        "                                      transforms.Normalize([0.5, 0.5, 0.5], [0.5, 0.5, 0.5])]) \n",
        "\n",
        "  def __len__(self):\n",
        "    return len(self.list_files)\n",
        "\n",
        "  def __getitem__(self, index):\n",
        "    img_file = self.list_files[index]\n",
        "    img_path = os.path.join(self.root_dir, img_file)\n",
        "    image = np.array(Image.open(img_path))\n",
        "    input_image = image[:, :600, :]\n",
        "    target_image = image[:, 600:, :]\n",
        "    input_image = self.data_transforms(input_image)\n",
        "    target_image = self.data_transforms(target_image)\n",
        "    return input_image, target_image\n",
        "    \n"
      ],
      "metadata": {
        "id": "bzoGLf9HWSU1"
      },
      "execution_count": 15,
      "outputs": []
    },
    {
      "cell_type": "code",
      "source": [
        "from __main__ import MapDataset\n",
        "data_dir = \"/content/drive/MyDrive/maps_dataset/maps/\"\n",
        "\n",
        "dataset_train = MapDataset(root_dir=os.path.join(data_dir, \"train\"))\n",
        "dataset_val = MapDataset(root_dir=os.path.join(data_dir, \"val\"))\n",
        "\n",
        "dataloader_train = DataLoader(dataset=dataset_train, batch_size=24, shuffle=True, num_workers=2)\n",
        "dataloader_val = DataLoader(dataset=dataset_val, batch_size=24, shuffle=True, num_workers=2)\n",
        "\n",
        "print(len(dataset_val))"
      ],
      "metadata": {
        "id": "fHKxg4_i7BrX"
      },
      "execution_count": null,
      "outputs": []
    },
    {
      "cell_type": "markdown",
      "source": [
        "# Building Generator"
      ],
      "metadata": {
        "id": "cKidp2jOL7U3"
      }
    },
    {
      "cell_type": "code",
      "source": [
        "import ipdb\n",
        "#UNET\n",
        "\n",
        "class DownSample(nn.Module):\n",
        "  def __init__(self, input_channels, output_channels):\n",
        "    super(DownSample, self).__init__()\n",
        "    self.model = nn.Sequential(nn.Conv2d(input_channels, output_channels, kernel_size= 4, stride = 2, padding=1, bias =False),\n",
        "                               nn.LeakyReLU(0.2))\n",
        "  def forward(self, x):\n",
        "    down = self.model(x)\n",
        "    return down\n",
        "\n",
        "class UpSample(nn.Module):\n",
        "  def __init__(self, input_channels, output_channels):\n",
        "    super(UpSample, self).__init__()\n",
        "    self.model = nn.Sequential(nn.ConvTranspose2d(input_channels, output_channels, kernel_size=4, stride =2, padding =1, bias=False),\n",
        "                               nn.InstanceNorm2d(output_channels),\n",
        "                               nn.ReLU(inplace=True))\n",
        "    \n",
        "  def forward(self, x, skip_connection):\n",
        "    up = self.model(x)\n",
        "    up = torch.cat((up, skip_connection), 1)\n",
        "    return up\n",
        "\n",
        "class Generator(nn.Module):\n",
        "  def __init__(self, in_channel, out_channel):\n",
        "    super(Generator, self).__init__()\n",
        "    self.down1 = DownSample(in_channel, 64)\n",
        "    self.down2 = DownSample(64, 128)\n",
        "    self.down3 = DownSample(128, 256)\n",
        "    self.down4 = DownSample(256, 512)\n",
        "    self.down5 = DownSample(512, 512)\n",
        "    self.down6 = DownSample(512, 512)\n",
        "    self.down7 = DownSample(512, 512)\n",
        "    self.down8 = DownSample(512, 512)\n",
        "\n",
        "    self.up1 = UpSample(512, 512)\n",
        "    self.up2 = UpSample(1024, 512)\n",
        "    self.up3 = UpSample(1024, 512)\n",
        "    self.up4 = UpSample(1024, 512)\n",
        "    self.up5 = UpSample(1024, 256)\n",
        "    self.up6 = UpSample(512, 128)\n",
        "    self.up7 = UpSample(256, 64)\n",
        "\n",
        "    self.final = nn.Sequential(nn.Upsample(scale_factor = 2),\n",
        "                               nn.ZeroPad2d((1,0,1,0)),\n",
        "                               nn.Conv2d(in_channels = 128, out_channels=3, kernel_size=4, padding=1),\n",
        "                               nn.Tanh())\n",
        "    \n",
        "  def forward(self, x):\n",
        "     d1 = self.down1(x)\n",
        "     d2 = self.down2(d1)\n",
        "     d3 = self.down3(d2)\n",
        "     d4 = self.down4(d3)\n",
        "     d5 = self.down5(d4)\n",
        "     d6 = self.down6(d5)\n",
        "     d7 = self.down7(d6)\n",
        "     d8 = self.down8(d7)\n",
        "     u1 = self.up1(d8, d7)\n",
        "     u2 = self.up2(u1, d6)\n",
        "     u3 = self.up3(u2, d5)\n",
        "     u4 = self.up4(u3, d4)\n",
        "     u5 = self.up5(u4, d3)\n",
        "     u6 = self.up6(u5, d2)\n",
        "     u7 = self.up7(u6, d1)\n",
        "     u8 = self.final(u7)\n",
        "     return u8\n",
        "\n",
        "\n"
      ],
      "metadata": {
        "id": "fTXgpm3rMIjv"
      },
      "execution_count": 65,
      "outputs": []
    },
    {
      "cell_type": "markdown",
      "source": [
        "# Testing Generator"
      ],
      "metadata": {
        "id": "aEKRL0FpTvdb"
      }
    },
    {
      "cell_type": "code",
      "source": [
        "image = torch.rand((1,3,256,256))\n",
        "out_channels = 3\n",
        "generator = Generator(in_channel=3,out_channel=3)\n",
        "k = generator(image)\n",
        "print(k.shape)"
      ],
      "metadata": {
        "colab": {
          "base_uri": "https://localhost:8080/"
        },
        "id": "rxBMnKmNTpk4",
        "outputId": "880ac39b-7e68-427c-f947-3a9c1fbf8a31"
      },
      "execution_count": 66,
      "outputs": [
        {
          "output_type": "stream",
          "name": "stdout",
          "text": [
            "torch.Size([1, 3, 256, 256])\n"
          ]
        }
      ]
    }
  ]
}